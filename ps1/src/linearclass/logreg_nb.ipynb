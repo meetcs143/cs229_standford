{
 "cells": [
  {
   "cell_type": "code",
   "execution_count": null,
   "id": "fbdae323",
   "metadata": {},
   "outputs": [],
   "source": [
    "import numpy as np\n",
    "import util\n",
    "\n",
    "\n",
    "def main(train_path, valid_path, save_path):\n",
    "    \"\"\"Problem: Logistic regression with Newton's Method.\n",
    "\n",
    "    Args:\n",
    "        train_path: Path to CSV file containing dataset for training.\n",
    "        valid_path: Path to CSV file containing dataset for validation.\n",
    "        save_path: Path to save predicted probabilities using np.savetxt().\n",
    "    \"\"\"\n",
    "    x_train, y_train = util.load_dataset(train_path, add_intercept=True)\n",
    "\n",
    "    # *** START CODE HERE ***\n",
    "    # Train a logistic regression classifier\n",
    "    # Plot decision boundary on top of validation set set\n",
    "    # Use np.savetxt to save predictions on eval set to save_path\n",
    "    # *** END CODE HERE ***\n",
    "\n",
    "\n",
    "class LogisticRegression:\n",
    "    \"\"\"Logistic regression with Newton's Method as the solver.\n",
    "\n",
    "    Example usage:\n",
    "        > clf = LogisticRegression()\n",
    "        > clf.fit(x_train, y_train)\n",
    "        > clf.predict(x_eval)\n",
    "    \"\"\"\n",
    "    def __init__(self, step_size=0.01, max_iter=1000000, eps=1e-5,\n",
    "                 theta_0=None, verbose=True):\n",
    "        \"\"\"\n",
    "        Args:\n",
    "            step_size: Step size for iterative solvers only.\n",
    "            max_iter: Maximum number of iterations for the solver.\n",
    "            eps: Threshold for determining convergence.\n",
    "            theta_0: Initial guess for theta. If None, use the zero vector.\n",
    "            verbose: Print loss values during training.\n",
    "        \"\"\"\n",
    "        self.theta = theta_0\n",
    "        self.step_size = step_size\n",
    "        self.max_iter = max_iter\n",
    "        self.eps = eps\n",
    "        self.verbose = verbose\n",
    "\n",
    "    def fit(self, x, y):\n",
    "        \"\"\"Run Newton's Method to minimize J(theta) for logistic regression.\n",
    "\n",
    "        Args:\n",
    "            x: Training example inputs. Shape (n_examples, dim).\n",
    "            y: Training example labels. Shape (n_examples,).\n",
    "        \"\"\"\n",
    "        # *** START CODE HERE ***\n",
    "        # *** END CODE HERE ***\n",
    "\n",
    "    def predict(self, x):\n",
    "        \"\"\"Return predicted probabilities given new inputs x.\n",
    "\n",
    "        Args:\n",
    "            x: Inputs of shape (n_examples, dim).\n",
    "\n",
    "        Returns:\n",
    "            Outputs of shape (n_examples,).\n",
    "        \"\"\"\n",
    "        # *** START CODE HERE ***\n",
    "        # *** END CODE HERE ***\n",
    "\n",
    "if __name__ == '__main__':\n",
    "    main(train_path='ds1_train.csv',\n",
    "         valid_path='ds1_valid.csv',\n",
    "         save_path='logreg_pred_1.txt')\n",
    "\n",
    "    main(train_path='ds2_train.csv',\n",
    "         valid_path='ds2_valid.csv',\n",
    "         save_path='logreg_pred_2.txt')\n"
   ]
  },
  {
   "cell_type": "code",
   "execution_count": 29,
   "id": "4f76da51",
   "metadata": {},
   "outputs": [],
   "source": [
    "import numpy as np\n",
    "import util\n",
    "import math"
   ]
  },
  {
   "cell_type": "code",
   "execution_count": 2,
   "id": "20c7064e",
   "metadata": {},
   "outputs": [],
   "source": [
    "train_path='ds1_train.csv'\n",
    "valid_path='ds1_valid.csv'"
   ]
  },
  {
   "cell_type": "code",
   "execution_count": 99,
   "id": "66b604ae",
   "metadata": {},
   "outputs": [],
   "source": [
    "x_train, y_train = util.load_dataset(train_path, add_intercept=True)"
   ]
  },
  {
   "cell_type": "code",
   "execution_count": 157,
   "id": "0e5c90be",
   "metadata": {},
   "outputs": [],
   "source": [
    "x_valid, y_valid = util.load_dataset(valid_path, add_intercept=True)"
   ]
  },
  {
   "cell_type": "code",
   "execution_count": null,
   "id": "60c7a00d",
   "metadata": {},
   "outputs": [],
   "source": [
    "m, n = x.shape\n",
    "self.theta = np.zeros(n)\n",
    "\n",
    "while True:\n",
    "    theta = np.copy(self.theta)\n",
    "    self.theta += self.step_size * x.T.dot(y - np.exp(x.dot(self.theta))) / m\n",
    "\n",
    "    if np.linalg.norm(self.theta - theta, ord=1) < self.eps:\n",
    "        break"
   ]
  },
  {
   "cell_type": "code",
   "execution_count": 148,
   "id": "e909c3a0",
   "metadata": {},
   "outputs": [],
   "source": [
    "theta = np.zeros(3)\n",
    "step_size = 0.01\n",
    "max_iter = 1000000\n",
    "eps = 1e-5"
   ]
  },
  {
   "cell_type": "code",
   "execution_count": 101,
   "id": "dd12b173",
   "metadata": {},
   "outputs": [],
   "source": [
    "def sigmoid(i):\n",
    "    return 1/(1+math.exp(-i))\n",
    "\n",
    "hypothesis = np.array(list(map(sigmoid, x_train.dot(theta))))"
   ]
  },
  {
   "cell_type": "code",
   "execution_count": 130,
   "id": "7f3ced4a",
   "metadata": {},
   "outputs": [],
   "source": [
    "## Calculate likelihood and hessian in each loop\n",
    "\n",
    "def grad_likelihood(X, Y, theta):\n",
    "    \n",
    "    return X.T.dot(Y - np.array(list(map(sigmoid, X.dot(theta)))))\n",
    "\n",
    "def hessian(X, theta):\n",
    "    \n",
    "    hypo = np.array(list(map(sigmoid, X.dot(theta))))    \n",
    "    return (X.T * hypo * (hypo - 1)).dot(X)"
   ]
  },
  {
   "cell_type": "code",
   "execution_count": 149,
   "id": "13479a47",
   "metadata": {},
   "outputs": [],
   "source": [
    "i = 0\n",
    "while np.linalg.norm(np.linalg.inv(hessian(X, theta)).dot(grad_likelihood(X, Y, theta)), ord=1) > eps:\n",
    "    theta = theta - np.linalg.inv(hessian(X, theta)).dot(grad_likelihood(X, Y, theta))\n",
    "    i = i+1"
   ]
  },
  {
   "cell_type": "code",
   "execution_count": 150,
   "id": "70c88e8e",
   "metadata": {},
   "outputs": [
    {
     "data": {
      "text/plain": [
       "7"
      ]
     },
     "execution_count": 150,
     "metadata": {},
     "output_type": "execute_result"
    }
   ],
   "source": [
    "i"
   ]
  },
  {
   "cell_type": "code",
   "execution_count": 151,
   "id": "3a4f8129",
   "metadata": {},
   "outputs": [
    {
     "data": {
      "text/plain": [
       "array([-2.40859977,  1.03437317,  0.24480705])"
      ]
     },
     "execution_count": 151,
     "metadata": {},
     "output_type": "execute_result"
    }
   ],
   "source": [
    "theta"
   ]
  },
  {
   "cell_type": "code",
   "execution_count": 152,
   "id": "d2bf1a87",
   "metadata": {},
   "outputs": [
    {
     "data": {
      "text/plain": [
       "array([[1.        , 0.41180854, 1.10552487],\n",
       "       [1.        , 1.27474554, 6.30331401],\n",
       "       [1.        , 0.11548828, 3.26425138],\n",
       "       ...,\n",
       "       [1.        , 0.96909526, 4.51838094],\n",
       "       [1.        , 1.95753102, 6.08296767],\n",
       "       [1.        , 2.02533402, 2.72958809]])"
      ]
     },
     "execution_count": 152,
     "metadata": {},
     "output_type": "execute_result"
    }
   ],
   "source": [
    "x_train"
   ]
  },
  {
   "cell_type": "code",
   "execution_count": 154,
   "id": "7fa66c31",
   "metadata": {},
   "outputs": [
    {
     "data": {
      "text/plain": [
       "array([0.15290503, 0.61136618, 0.18391722, 0.0550338 , 0.13642355,\n",
       "       0.02187572, 0.23515878, 0.12183353, 0.1201757 , 0.07809201,\n",
       "       0.19726895, 0.55994113, 0.09575393, 0.15132621, 0.0351224 ,\n",
       "       0.05969833, 0.12459544, 0.3367249 , 0.10557373, 0.08864862,\n",
       "       0.38211604, 0.03637926, 0.09104434, 0.89002081, 0.14403994,\n",
       "       0.34592221, 0.04555507, 0.64485051, 0.58339824, 0.0931677 ,\n",
       "       0.04824372, 0.09621471, 0.02356201, 0.02770741, 0.21872694,\n",
       "       0.08710558, 0.05728894, 0.06348196, 0.34622169, 0.2753503 ,\n",
       "       0.26811763, 0.95124683, 0.56882447, 0.42210051, 0.77181727,\n",
       "       0.11214315, 0.35069829, 0.21445364, 0.00908934, 0.35014037,\n",
       "       0.29466613, 0.03407352, 0.11233329, 0.09728095, 0.10037385,\n",
       "       0.03155508, 0.12307348, 0.31217883, 0.0553093 , 0.05264148,\n",
       "       0.2103007 , 0.14762618, 0.10269484, 0.13965833, 0.06244597,\n",
       "       0.41966894, 0.26463808, 0.29696575, 0.18472529, 0.21020807,\n",
       "       0.0454895 , 0.15011469, 0.30377904, 0.08233449, 0.61773933,\n",
       "       0.08034428, 0.09288578, 0.27845528, 0.09066267, 0.28945432,\n",
       "       0.71575336, 0.32048103, 0.08604751, 0.18599507, 0.5623687 ,\n",
       "       0.07341545, 0.30345455, 0.52616298, 0.09260312, 0.04467865,\n",
       "       0.29558641, 0.38850222, 0.15107023, 0.18776573, 0.32853768,\n",
       "       0.19739391, 0.24548996, 0.0949478 , 0.08210498, 0.07983989,\n",
       "       0.20852959, 0.21392911, 0.03144937, 0.17114817, 0.05856533,\n",
       "       0.02876201, 0.97353112, 0.08021568, 0.05448435, 0.0742869 ,\n",
       "       0.79938898, 0.16301557, 0.11632713, 0.14749081, 0.04926069,\n",
       "       0.10629482, 0.45048199, 0.07448483, 0.03280787, 0.19764325,\n",
       "       0.06370126, 0.11937736, 0.38575601, 0.44166038, 0.35147935,\n",
       "       0.14095405, 0.26937871, 0.11038218, 0.18511979, 0.29411366,\n",
       "       0.48429469, 0.13827101, 0.75351813, 0.44559059, 0.39072426,\n",
       "       0.24494798, 0.27993746, 0.29092354, 0.12878433, 0.95530407,\n",
       "       0.09192251, 0.06385282, 0.16611044, 0.32851771, 0.4269128 ,\n",
       "       0.2387912 , 0.18020308, 0.04372734, 0.11003661, 0.07473687,\n",
       "       0.14923482, 0.20745493, 0.06586494, 0.08722687, 0.20413754,\n",
       "       0.57496172, 0.07585494, 0.98611391, 0.03825218, 0.11764307,\n",
       "       0.09357243, 0.16063624, 0.07642331, 0.3448101 , 0.37216673,\n",
       "       0.02597025, 0.33726297, 0.06098421, 0.03933589, 0.41093678,\n",
       "       0.39870407, 0.06111822, 0.03740549, 0.19547561, 0.5834289 ,\n",
       "       0.54782892, 0.25547431, 0.08475277, 0.04925263, 0.07446694,\n",
       "       0.06934702, 0.12706486, 0.80272169, 0.00415901, 0.12460692,\n",
       "       0.02497961, 0.30420254, 0.14802202, 0.24577129, 0.30113672,\n",
       "       0.1931198 , 0.08604628, 0.15486472, 0.19331874, 0.24572601,\n",
       "       0.62947861, 0.12169634, 0.24103975, 0.68995947, 0.35481094,\n",
       "       0.13276049, 0.12434734, 0.15575182, 0.09158806, 0.40436387,\n",
       "       0.42293576, 0.0477654 , 0.16702055, 0.14360687, 0.1500926 ,\n",
       "       0.27912637, 0.52107841, 0.44454732, 0.96510173, 0.31443254,\n",
       "       0.01624577, 0.18333772, 0.21513067, 0.36882549, 0.22763219,\n",
       "       0.10949363, 0.45979452, 0.71706383, 0.06443351, 0.04656734,\n",
       "       0.08345112, 0.44170064, 0.529194  , 0.02098662, 0.14479322,\n",
       "       0.13696733, 0.85896829, 0.82878863, 0.02488047, 0.2957895 ,\n",
       "       0.02112523, 0.1832028 , 0.18228777, 0.26563174, 0.02973713,\n",
       "       0.21413825, 0.54455462, 0.61633352, 0.20669325, 0.03077858,\n",
       "       0.15769366, 0.94120686, 0.2535803 , 0.85042645, 0.4060694 ,\n",
       "       0.84748762, 0.38324658, 0.42079678, 0.18402336, 0.2124501 ,\n",
       "       0.11055704, 0.74099783, 0.36817163, 0.03237308, 0.12260566,\n",
       "       0.75777325, 0.66883853, 0.07607119, 0.05587953, 0.44975174,\n",
       "       0.37742849, 0.24174986, 0.08336712, 0.51649711, 0.20476602,\n",
       "       0.02782229, 0.24410451, 0.03933466, 0.11386996, 0.1963213 ,\n",
       "       0.21198166, 0.16594993, 0.01939235, 0.05405158, 0.65028306,\n",
       "       0.04259569, 0.14185988, 0.26182598, 0.05808354, 0.63364347,\n",
       "       0.20772894, 0.97692621, 0.66395895, 0.0705973 , 0.05974428,\n",
       "       0.95117577, 0.0824545 , 0.65323534, 0.0969304 , 0.06769899,\n",
       "       0.15255437, 0.11342884, 0.1741283 , 0.2270814 , 0.23779817,\n",
       "       0.43433308, 0.22885302, 0.11311579, 0.27469104, 0.15087814,\n",
       "       0.07818945, 0.21812079, 0.07238377, 0.13241786, 0.05733202,\n",
       "       0.0137932 , 0.56154294, 0.89827407, 0.20745204, 0.06817163,\n",
       "       0.61302447, 0.31893011, 0.70394633, 0.03087052, 0.77155002,\n",
       "       0.21641839, 0.85336052, 0.15510651, 0.33281438, 0.06971661,\n",
       "       0.47573008, 0.95837444, 0.31166157, 0.48008189, 0.35887608,\n",
       "       0.03816236, 0.04151535, 0.50419353, 0.15568325, 0.14977694,\n",
       "       0.44285647, 0.24734516, 0.20729416, 0.18479543, 0.25423884,\n",
       "       0.4725094 , 0.58470888, 0.27494407, 0.19562329, 0.05844038,\n",
       "       0.05789112, 0.37984456, 0.05457895, 0.20456952, 0.09467809,\n",
       "       0.20692724, 0.13013314, 0.05936943, 0.22977591, 0.15383005,\n",
       "       0.38648656, 0.16695948, 0.30061824, 0.25053248, 0.01493593,\n",
       "       0.10380966, 0.25072582, 0.35661295, 0.51572602, 0.04659868,\n",
       "       0.24246448, 0.26091074, 0.23838001, 0.17761053, 0.29194233,\n",
       "       0.64450569, 0.16905084, 0.65727475, 0.64900867, 0.12503909,\n",
       "       0.79147532, 0.06479847, 0.59148951, 0.21770797, 0.26797289,\n",
       "       0.17625779, 0.59027367, 0.3844663 , 0.17171767, 0.09897987,\n",
       "       0.61917154, 0.09697878, 0.10469729, 0.1748156 , 0.47440878,\n",
       "       0.29984618, 0.14926716, 0.10510707, 0.70978548, 0.08239136,\n",
       "       0.17150214, 0.0868725 , 0.40340293, 0.3910678 , 0.57316531,\n",
       "       0.48812934, 0.14141394, 0.84951129, 0.99659383, 0.93585498,\n",
       "       0.73657235, 0.96136727, 0.22287742, 0.94002493, 0.64894111,\n",
       "       0.96193321, 0.55290112, 0.29604825, 0.6224693 , 0.98635981,\n",
       "       0.92315757, 0.42226917, 0.3482629 , 0.97661703, 0.98952629,\n",
       "       0.59333075, 0.87043011, 0.36688811, 0.97648847, 0.9559687 ,\n",
       "       0.72775982, 0.62717804, 0.95562719, 0.96887499, 0.22667496,\n",
       "       0.99824877, 0.95427203, 0.59077702, 0.86567151, 0.46134234,\n",
       "       0.96132334, 0.25438936, 0.99997036, 0.86613821, 0.98171685,\n",
       "       0.97985723, 0.69481034, 0.49678714, 0.98359838, 0.27676451,\n",
       "       0.99996555, 0.99764668, 0.99358076, 0.40764959, 0.19250059,\n",
       "       0.21975043, 0.97466073, 0.98135549, 0.98333309, 0.88229856,\n",
       "       0.99365455, 0.63195935, 0.9861855 , 0.21053048, 0.9922445 ,\n",
       "       0.64428773, 0.7787308 , 0.8668978 , 0.67832368, 0.76865724,\n",
       "       0.76431811, 0.95561687, 0.4622648 , 0.99993441, 0.67439559,\n",
       "       0.94982039, 0.61017567, 0.74918591, 0.72734432, 0.38346395,\n",
       "       0.83799407, 0.75942893, 0.99991002, 0.99270314, 0.59751885,\n",
       "       0.43281679, 0.99999961, 0.65714355, 0.53205037, 0.69428538,\n",
       "       0.85259545, 0.74132629, 0.38656414, 0.82059901, 0.13763397,\n",
       "       0.34742934, 0.34476707, 0.9522196 , 0.91337099, 0.89892368,\n",
       "       0.62401484, 0.46121504, 0.9999981 , 0.99995711, 0.62530731,\n",
       "       0.21651877, 0.30683253, 0.9153662 , 0.94849736, 0.33309006,\n",
       "       0.21387886, 0.64573458, 0.99115722, 0.859492  , 0.99660827,\n",
       "       0.99998088, 0.90655486, 0.97703318, 0.9767933 , 0.9981238 ,\n",
       "       0.86856622, 0.70063561, 0.21435083, 0.99088282, 0.24009959,\n",
       "       0.94363336, 0.75586639, 0.91171935, 0.50074509, 0.98240856,\n",
       "       0.99976313, 0.97945407, 0.90714031, 0.99999202, 0.73925626,\n",
       "       0.44060289, 0.70477797, 0.99401671, 0.99537888, 0.72847253,\n",
       "       0.4737999 , 0.60694686, 0.99659861, 0.8393289 , 0.99815094,\n",
       "       0.81892099, 0.47000156, 0.28393414, 0.99695306, 0.64636707,\n",
       "       0.4836633 , 0.49613795, 0.32438618, 0.99946835, 0.99790525,\n",
       "       0.37200444, 0.77947701, 0.6935655 , 0.51114283, 0.97367705,\n",
       "       0.99837607, 0.99559575, 0.99773547, 0.96876284, 0.40444634,\n",
       "       0.94150635, 0.99911315, 0.36103523, 0.97840487, 0.93023385,\n",
       "       0.94637833, 0.44727163, 0.34296727, 0.6081978 , 0.99928985,\n",
       "       0.94759194, 0.99999999, 0.98203949, 0.93707669, 0.83645492,\n",
       "       0.2852504 , 0.99999996, 0.79500448, 0.99031597, 0.84883435,\n",
       "       0.99996195, 0.92987565, 0.99746009, 0.40118741, 0.99224208,\n",
       "       0.43579604, 0.99998957, 0.99998041, 0.99762414, 0.9167396 ,\n",
       "       0.69559525, 0.24957903, 0.97332414, 0.22498735, 0.99989159,\n",
       "       0.77069228, 0.66814813, 0.11995677, 0.51061535, 0.19464162,\n",
       "       0.07631867, 0.73393087, 0.72391652, 0.2181299 , 0.99990456,\n",
       "       0.80878864, 0.71701309, 0.82511172, 0.12787129, 0.20448963,\n",
       "       0.88365722, 0.35674014, 0.42708074, 0.95838082, 0.88590956,\n",
       "       0.92731692, 0.36452777, 0.36219699, 0.41901188, 0.86211346,\n",
       "       0.93524487, 0.93599446, 0.81190053, 0.80635547, 0.84899463,\n",
       "       0.23064618, 0.65608577, 0.66164486, 0.7326758 , 0.82228733,\n",
       "       0.37131864, 0.36311242, 0.78161275, 0.99701042, 0.9725824 ,\n",
       "       0.99259147, 0.4979737 , 0.99799764, 0.65414421, 0.99081578,\n",
       "       0.99870235, 0.81290246, 0.26416071, 0.88691041, 0.99576508,\n",
       "       0.99947748, 0.99999806, 0.24466796, 0.9959442 , 0.39358218,\n",
       "       0.94609308, 0.65265517, 0.1912532 , 0.99973545, 0.31290468,\n",
       "       0.51053738, 0.92057569, 0.99568981, 0.99969471, 0.39986298,\n",
       "       0.46466884, 0.93493376, 0.46492188, 0.99859084, 0.3944954 ,\n",
       "       0.81470878, 0.86413911, 0.96260398, 0.80651681, 0.96633347,\n",
       "       0.90535398, 0.99562952, 0.53395238, 1.        , 0.92249223,\n",
       "       0.50182729, 0.79032646, 0.71572751, 0.97401481, 0.32758571,\n",
       "       0.99998003, 0.85262788, 0.60444315, 0.36687735, 0.77465717,\n",
       "       0.99999923, 0.30008941, 0.97014613, 0.85740043, 0.57477296,\n",
       "       0.81960935, 1.        , 0.8992962 , 0.98265857, 0.43387444,\n",
       "       0.61186084, 0.6255377 , 0.96078508, 1.        , 0.7713018 ,\n",
       "       0.8461159 , 0.13696046, 0.99253942, 0.9501524 , 0.99720066,\n",
       "       0.9758217 , 0.93411085, 0.2089043 , 0.30519241, 0.31557083,\n",
       "       0.6858749 , 0.25059145, 0.9504387 , 0.98516435, 0.89543025,\n",
       "       0.6254057 , 0.34791217, 0.82485318, 0.77799713, 0.98946828,\n",
       "       0.99999998, 0.93236165, 0.99999959, 0.94835699, 0.9990458 ,\n",
       "       0.64585581, 0.96537422, 1.        , 0.67508748, 0.96840396,\n",
       "       0.71114462, 0.99687789, 0.84343963, 0.40120567, 0.99759385,\n",
       "       0.99974341, 0.44397309, 0.99803576, 0.78684994, 0.99978783,\n",
       "       0.33360908, 0.85101088, 0.99810239, 0.99738624, 0.99396086,\n",
       "       0.80286551, 0.9387665 , 0.86669653, 0.51042836, 0.89678064,\n",
       "       0.98073397, 0.83305984, 0.31747757, 0.54162562, 0.38887733,\n",
       "       0.99772408, 0.95090677, 0.99437692, 0.78442631, 0.98999561,\n",
       "       0.99609583, 0.95562546, 0.11755785, 0.97517626, 0.76878331,\n",
       "       0.97061289, 0.99994069, 0.99732687, 0.38003267, 0.99680234,\n",
       "       0.99839507, 0.81103676, 0.27277152, 0.67457387, 0.73436807,\n",
       "       0.38266761, 0.73884406, 0.41690759, 0.49655598, 0.96723282,\n",
       "       0.90808907, 0.99432229, 0.81634544, 0.80259007, 0.33581784,\n",
       "       0.42329718, 0.28068429, 0.67083692, 0.59447519, 0.67659674,\n",
       "       0.98751576, 0.92384726, 0.93957792, 0.61902794, 0.2779833 ,\n",
       "       0.65559921, 0.28817629, 0.42554229, 0.75126514, 0.58772627])"
      ]
     },
     "execution_count": 154,
     "metadata": {},
     "output_type": "execute_result"
    }
   ],
   "source": [
    "1 / (1 + np.exp(-X.dot(theta)))"
   ]
  },
  {
   "cell_type": "code",
   "execution_count": 158,
   "id": "e9ec7180",
   "metadata": {},
   "outputs": [
    {
     "ename": "FileNotFoundError",
     "evalue": "[Errno 2] No such file or directory: 'output/p01b_pic2.png'",
     "output_type": "error",
     "traceback": [
      "\u001b[0;31m---------------------------------------------------------------------------\u001b[0m",
      "\u001b[0;31mFileNotFoundError\u001b[0m                         Traceback (most recent call last)",
      "Cell \u001b[0;32mIn[158], line 3\u001b[0m\n\u001b[1;32m      1\u001b[0m img_path \u001b[38;5;241m=\u001b[39m \u001b[38;5;124m'\u001b[39m\u001b[38;5;124mpic2\u001b[39m\u001b[38;5;124m'\u001b[39m\n\u001b[0;32m----> 3\u001b[0m util\u001b[38;5;241m.\u001b[39mplot(x_valid, y_valid, theta, \u001b[38;5;124m'\u001b[39m\u001b[38;5;124moutput/p01b_\u001b[39m\u001b[38;5;132;01m{}\u001b[39;00m\u001b[38;5;124m.png\u001b[39m\u001b[38;5;124m'\u001b[39m\u001b[38;5;241m.\u001b[39mformat(img_path))\n",
      "File \u001b[0;32m~/PycharmProjects/CS229/cs229_standford/ps1/src/linearclass/util.py:89\u001b[0m, in \u001b[0;36mplot\u001b[0;34m(x, y, theta, save_path, correction)\u001b[0m\n\u001b[1;32m     87\u001b[0m plt\u001b[38;5;241m.\u001b[39mxlabel(\u001b[38;5;124m'\u001b[39m\u001b[38;5;124mx1\u001b[39m\u001b[38;5;124m'\u001b[39m)\n\u001b[1;32m     88\u001b[0m plt\u001b[38;5;241m.\u001b[39mylabel(\u001b[38;5;124m'\u001b[39m\u001b[38;5;124mx2\u001b[39m\u001b[38;5;124m'\u001b[39m)\n\u001b[0;32m---> 89\u001b[0m plt\u001b[38;5;241m.\u001b[39msavefig(save_path)\n",
      "File \u001b[0;32m~/anaconda3/lib/python3.11/site-packages/matplotlib/pyplot.py:1023\u001b[0m, in \u001b[0;36msavefig\u001b[0;34m(*args, **kwargs)\u001b[0m\n\u001b[1;32m   1020\u001b[0m \u001b[38;5;129m@_copy_docstring_and_deprecators\u001b[39m(Figure\u001b[38;5;241m.\u001b[39msavefig)\n\u001b[1;32m   1021\u001b[0m \u001b[38;5;28;01mdef\u001b[39;00m \u001b[38;5;21msavefig\u001b[39m(\u001b[38;5;241m*\u001b[39margs, \u001b[38;5;241m*\u001b[39m\u001b[38;5;241m*\u001b[39mkwargs):\n\u001b[1;32m   1022\u001b[0m     fig \u001b[38;5;241m=\u001b[39m gcf()\n\u001b[0;32m-> 1023\u001b[0m     res \u001b[38;5;241m=\u001b[39m fig\u001b[38;5;241m.\u001b[39msavefig(\u001b[38;5;241m*\u001b[39margs, \u001b[38;5;241m*\u001b[39m\u001b[38;5;241m*\u001b[39mkwargs)\n\u001b[1;32m   1024\u001b[0m     fig\u001b[38;5;241m.\u001b[39mcanvas\u001b[38;5;241m.\u001b[39mdraw_idle()  \u001b[38;5;66;03m# Need this if 'transparent=True', to reset colors.\u001b[39;00m\n\u001b[1;32m   1025\u001b[0m     \u001b[38;5;28;01mreturn\u001b[39;00m res\n",
      "File \u001b[0;32m~/anaconda3/lib/python3.11/site-packages/matplotlib/figure.py:3378\u001b[0m, in \u001b[0;36mFigure.savefig\u001b[0;34m(self, fname, transparent, **kwargs)\u001b[0m\n\u001b[1;32m   3374\u001b[0m     \u001b[38;5;28;01mfor\u001b[39;00m ax \u001b[38;5;129;01min\u001b[39;00m \u001b[38;5;28mself\u001b[39m\u001b[38;5;241m.\u001b[39maxes:\n\u001b[1;32m   3375\u001b[0m         stack\u001b[38;5;241m.\u001b[39menter_context(\n\u001b[1;32m   3376\u001b[0m             ax\u001b[38;5;241m.\u001b[39mpatch\u001b[38;5;241m.\u001b[39m_cm_set(facecolor\u001b[38;5;241m=\u001b[39m\u001b[38;5;124m'\u001b[39m\u001b[38;5;124mnone\u001b[39m\u001b[38;5;124m'\u001b[39m, edgecolor\u001b[38;5;241m=\u001b[39m\u001b[38;5;124m'\u001b[39m\u001b[38;5;124mnone\u001b[39m\u001b[38;5;124m'\u001b[39m))\n\u001b[0;32m-> 3378\u001b[0m \u001b[38;5;28mself\u001b[39m\u001b[38;5;241m.\u001b[39mcanvas\u001b[38;5;241m.\u001b[39mprint_figure(fname, \u001b[38;5;241m*\u001b[39m\u001b[38;5;241m*\u001b[39mkwargs)\n",
      "File \u001b[0;32m~/anaconda3/lib/python3.11/site-packages/matplotlib/backend_bases.py:2366\u001b[0m, in \u001b[0;36mFigureCanvasBase.print_figure\u001b[0;34m(self, filename, dpi, facecolor, edgecolor, orientation, format, bbox_inches, pad_inches, bbox_extra_artists, backend, **kwargs)\u001b[0m\n\u001b[1;32m   2362\u001b[0m \u001b[38;5;28;01mtry\u001b[39;00m:\n\u001b[1;32m   2363\u001b[0m     \u001b[38;5;66;03m# _get_renderer may change the figure dpi (as vector formats\u001b[39;00m\n\u001b[1;32m   2364\u001b[0m     \u001b[38;5;66;03m# force the figure dpi to 72), so we need to set it again here.\u001b[39;00m\n\u001b[1;32m   2365\u001b[0m     \u001b[38;5;28;01mwith\u001b[39;00m cbook\u001b[38;5;241m.\u001b[39m_setattr_cm(\u001b[38;5;28mself\u001b[39m\u001b[38;5;241m.\u001b[39mfigure, dpi\u001b[38;5;241m=\u001b[39mdpi):\n\u001b[0;32m-> 2366\u001b[0m         result \u001b[38;5;241m=\u001b[39m print_method(\n\u001b[1;32m   2367\u001b[0m             filename,\n\u001b[1;32m   2368\u001b[0m             facecolor\u001b[38;5;241m=\u001b[39mfacecolor,\n\u001b[1;32m   2369\u001b[0m             edgecolor\u001b[38;5;241m=\u001b[39medgecolor,\n\u001b[1;32m   2370\u001b[0m             orientation\u001b[38;5;241m=\u001b[39morientation,\n\u001b[1;32m   2371\u001b[0m             bbox_inches_restore\u001b[38;5;241m=\u001b[39m_bbox_inches_restore,\n\u001b[1;32m   2372\u001b[0m             \u001b[38;5;241m*\u001b[39m\u001b[38;5;241m*\u001b[39mkwargs)\n\u001b[1;32m   2373\u001b[0m \u001b[38;5;28;01mfinally\u001b[39;00m:\n\u001b[1;32m   2374\u001b[0m     \u001b[38;5;28;01mif\u001b[39;00m bbox_inches \u001b[38;5;129;01mand\u001b[39;00m restore_bbox:\n",
      "File \u001b[0;32m~/anaconda3/lib/python3.11/site-packages/matplotlib/backend_bases.py:2232\u001b[0m, in \u001b[0;36mFigureCanvasBase._switch_canvas_and_return_print_method.<locals>.<lambda>\u001b[0;34m(*args, **kwargs)\u001b[0m\n\u001b[1;32m   2228\u001b[0m     optional_kws \u001b[38;5;241m=\u001b[39m {  \u001b[38;5;66;03m# Passed by print_figure for other renderers.\u001b[39;00m\n\u001b[1;32m   2229\u001b[0m         \u001b[38;5;124m\"\u001b[39m\u001b[38;5;124mdpi\u001b[39m\u001b[38;5;124m\"\u001b[39m, \u001b[38;5;124m\"\u001b[39m\u001b[38;5;124mfacecolor\u001b[39m\u001b[38;5;124m\"\u001b[39m, \u001b[38;5;124m\"\u001b[39m\u001b[38;5;124medgecolor\u001b[39m\u001b[38;5;124m\"\u001b[39m, \u001b[38;5;124m\"\u001b[39m\u001b[38;5;124morientation\u001b[39m\u001b[38;5;124m\"\u001b[39m,\n\u001b[1;32m   2230\u001b[0m         \u001b[38;5;124m\"\u001b[39m\u001b[38;5;124mbbox_inches_restore\u001b[39m\u001b[38;5;124m\"\u001b[39m}\n\u001b[1;32m   2231\u001b[0m     skip \u001b[38;5;241m=\u001b[39m optional_kws \u001b[38;5;241m-\u001b[39m {\u001b[38;5;241m*\u001b[39minspect\u001b[38;5;241m.\u001b[39msignature(meth)\u001b[38;5;241m.\u001b[39mparameters}\n\u001b[0;32m-> 2232\u001b[0m     print_method \u001b[38;5;241m=\u001b[39m functools\u001b[38;5;241m.\u001b[39mwraps(meth)(\u001b[38;5;28;01mlambda\u001b[39;00m \u001b[38;5;241m*\u001b[39margs, \u001b[38;5;241m*\u001b[39m\u001b[38;5;241m*\u001b[39mkwargs: meth(\n\u001b[1;32m   2233\u001b[0m         \u001b[38;5;241m*\u001b[39margs, \u001b[38;5;241m*\u001b[39m\u001b[38;5;241m*\u001b[39m{k: v \u001b[38;5;28;01mfor\u001b[39;00m k, v \u001b[38;5;129;01min\u001b[39;00m kwargs\u001b[38;5;241m.\u001b[39mitems() \u001b[38;5;28;01mif\u001b[39;00m k \u001b[38;5;129;01mnot\u001b[39;00m \u001b[38;5;129;01min\u001b[39;00m skip}))\n\u001b[1;32m   2234\u001b[0m \u001b[38;5;28;01melse\u001b[39;00m:  \u001b[38;5;66;03m# Let third-parties do as they see fit.\u001b[39;00m\n\u001b[1;32m   2235\u001b[0m     print_method \u001b[38;5;241m=\u001b[39m meth\n",
      "File \u001b[0;32m~/anaconda3/lib/python3.11/site-packages/matplotlib/backends/backend_agg.py:509\u001b[0m, in \u001b[0;36mFigureCanvasAgg.print_png\u001b[0;34m(self, filename_or_obj, metadata, pil_kwargs)\u001b[0m\n\u001b[1;32m    462\u001b[0m \u001b[38;5;28;01mdef\u001b[39;00m \u001b[38;5;21mprint_png\u001b[39m(\u001b[38;5;28mself\u001b[39m, filename_or_obj, \u001b[38;5;241m*\u001b[39m, metadata\u001b[38;5;241m=\u001b[39m\u001b[38;5;28;01mNone\u001b[39;00m, pil_kwargs\u001b[38;5;241m=\u001b[39m\u001b[38;5;28;01mNone\u001b[39;00m):\n\u001b[1;32m    463\u001b[0m \u001b[38;5;250m    \u001b[39m\u001b[38;5;124;03m\"\"\"\u001b[39;00m\n\u001b[1;32m    464\u001b[0m \u001b[38;5;124;03m    Write the figure to a PNG file.\u001b[39;00m\n\u001b[1;32m    465\u001b[0m \n\u001b[0;32m   (...)\u001b[0m\n\u001b[1;32m    507\u001b[0m \u001b[38;5;124;03m        *metadata*, including the default 'Software' key.\u001b[39;00m\n\u001b[1;32m    508\u001b[0m \u001b[38;5;124;03m    \"\"\"\u001b[39;00m\n\u001b[0;32m--> 509\u001b[0m     \u001b[38;5;28mself\u001b[39m\u001b[38;5;241m.\u001b[39m_print_pil(filename_or_obj, \u001b[38;5;124m\"\u001b[39m\u001b[38;5;124mpng\u001b[39m\u001b[38;5;124m\"\u001b[39m, pil_kwargs, metadata)\n",
      "File \u001b[0;32m~/anaconda3/lib/python3.11/site-packages/matplotlib/backends/backend_agg.py:458\u001b[0m, in \u001b[0;36mFigureCanvasAgg._print_pil\u001b[0;34m(self, filename_or_obj, fmt, pil_kwargs, metadata)\u001b[0m\n\u001b[1;32m    453\u001b[0m \u001b[38;5;250m\u001b[39m\u001b[38;5;124;03m\"\"\"\u001b[39;00m\n\u001b[1;32m    454\u001b[0m \u001b[38;5;124;03mDraw the canvas, then save it using `.image.imsave` (to which\u001b[39;00m\n\u001b[1;32m    455\u001b[0m \u001b[38;5;124;03m*pil_kwargs* and *metadata* are forwarded).\u001b[39;00m\n\u001b[1;32m    456\u001b[0m \u001b[38;5;124;03m\"\"\"\u001b[39;00m\n\u001b[1;32m    457\u001b[0m FigureCanvasAgg\u001b[38;5;241m.\u001b[39mdraw(\u001b[38;5;28mself\u001b[39m)\n\u001b[0;32m--> 458\u001b[0m mpl\u001b[38;5;241m.\u001b[39mimage\u001b[38;5;241m.\u001b[39mimsave(\n\u001b[1;32m    459\u001b[0m     filename_or_obj, \u001b[38;5;28mself\u001b[39m\u001b[38;5;241m.\u001b[39mbuffer_rgba(), \u001b[38;5;28mformat\u001b[39m\u001b[38;5;241m=\u001b[39mfmt, origin\u001b[38;5;241m=\u001b[39m\u001b[38;5;124m\"\u001b[39m\u001b[38;5;124mupper\u001b[39m\u001b[38;5;124m\"\u001b[39m,\n\u001b[1;32m    460\u001b[0m     dpi\u001b[38;5;241m=\u001b[39m\u001b[38;5;28mself\u001b[39m\u001b[38;5;241m.\u001b[39mfigure\u001b[38;5;241m.\u001b[39mdpi, metadata\u001b[38;5;241m=\u001b[39mmetadata, pil_kwargs\u001b[38;5;241m=\u001b[39mpil_kwargs)\n",
      "File \u001b[0;32m~/anaconda3/lib/python3.11/site-packages/matplotlib/image.py:1689\u001b[0m, in \u001b[0;36mimsave\u001b[0;34m(fname, arr, vmin, vmax, cmap, format, origin, dpi, metadata, pil_kwargs)\u001b[0m\n\u001b[1;32m   1687\u001b[0m pil_kwargs\u001b[38;5;241m.\u001b[39msetdefault(\u001b[38;5;124m\"\u001b[39m\u001b[38;5;124mformat\u001b[39m\u001b[38;5;124m\"\u001b[39m, \u001b[38;5;28mformat\u001b[39m)\n\u001b[1;32m   1688\u001b[0m pil_kwargs\u001b[38;5;241m.\u001b[39msetdefault(\u001b[38;5;124m\"\u001b[39m\u001b[38;5;124mdpi\u001b[39m\u001b[38;5;124m\"\u001b[39m, (dpi, dpi))\n\u001b[0;32m-> 1689\u001b[0m image\u001b[38;5;241m.\u001b[39msave(fname, \u001b[38;5;241m*\u001b[39m\u001b[38;5;241m*\u001b[39mpil_kwargs)\n",
      "File \u001b[0;32m~/anaconda3/lib/python3.11/site-packages/PIL/Image.py:2428\u001b[0m, in \u001b[0;36mImage.save\u001b[0;34m(self, fp, format, **params)\u001b[0m\n\u001b[1;32m   2426\u001b[0m         fp \u001b[38;5;241m=\u001b[39m builtins\u001b[38;5;241m.\u001b[39mopen(filename, \u001b[38;5;124m\"\u001b[39m\u001b[38;5;124mr+b\u001b[39m\u001b[38;5;124m\"\u001b[39m)\n\u001b[1;32m   2427\u001b[0m     \u001b[38;5;28;01melse\u001b[39;00m:\n\u001b[0;32m-> 2428\u001b[0m         fp \u001b[38;5;241m=\u001b[39m builtins\u001b[38;5;241m.\u001b[39mopen(filename, \u001b[38;5;124m\"\u001b[39m\u001b[38;5;124mw+b\u001b[39m\u001b[38;5;124m\"\u001b[39m)\n\u001b[1;32m   2430\u001b[0m \u001b[38;5;28;01mtry\u001b[39;00m:\n\u001b[1;32m   2431\u001b[0m     save_handler(\u001b[38;5;28mself\u001b[39m, fp, filename)\n",
      "\u001b[0;31mFileNotFoundError\u001b[0m: [Errno 2] No such file or directory: 'output/p01b_pic2.png'"
     ]
    },
    {
     "data": {
      "image/png": "[encoded data removed]",
      "text/plain": [
       "<Figure size 640x480 with 1 Axes>"
      ]
     },
     "metadata": {},
     "output_type": "display_data"
    }
   ],
   "source": [
    "img_path = 'pic2'\n",
    "\n",
    "util.plot(x_valid, y_valid, theta, 'output/p01b_{}.png'.format(img_path))"
   ]
  },
  {
   "cell_type": "code",
   "execution_count": null,
   "id": "40a1822f",
   "metadata": {},
   "outputs": [],
   "source": []
  }
 ],
 "metadata": {
  "kernelspec": {
   "display_name": "Python 3 (ipykernel)",
   "language": "python",
   "name": "python3"
  },
  "language_info": {
   "codemirror_mode": {
    "name": "ipython",
    "version": 3
   },
   "file_extension": ".py",
   "mimetype": "text/x-python",
   "name": "python",
   "nbconvert_exporter": "python",
   "pygments_lexer": "ipython3",
   "version": "3.11.5"
  }
 },
 "nbformat": 4,
 "nbformat_minor": 5
}
